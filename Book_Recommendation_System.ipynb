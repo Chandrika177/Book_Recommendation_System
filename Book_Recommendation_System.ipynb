{
 "cells": [
  {
   "cell_type": "markdown",
   "id": "5e4f7103-3842-4e04-81a1-d0a996e47666",
   "metadata": {},
   "source": [
    "## Import Libraries"
   ]
  },
  {
   "cell_type": "code",
   "execution_count": null,
   "id": "5d7eba09-b49a-47c9-bc19-ca0804b7fc49",
   "metadata": {},
   "outputs": [],
   "source": [
    "import pandas as pd\n",
    "import numpy as np\n",
    "import matplotlib.pyplot as plt\n",
    "import seaborn as sns\n",
    "plt.rcParams['figure.figsize'] = (15,7)\n",
    "plt.rcParams['figure.dpi'] = 150\n",
    "import warnings\n",
    "warnings.filterwarnings('ignore')\n",
    "sns.set_theme(style='darkgrid', palette='viridis')\n",
    "%matplotlib inline\n",
    "import statistics"
   ]
  },
  {
   "cell_type": "markdown",
   "id": "3bbff854-d40b-4779-a8ac-80374a0c1736",
   "metadata": {},
   "source": [
    "## Load the data"
   ]
  },
  {
   "cell_type": "code",
   "execution_count": null,
   "id": "75e62ff8-416a-4bb7-b1b6-6a31847b0677",
   "metadata": {},
   "outputs": [],
   "source": [
    "Books = pd.read_csv('Books.csv',encoding='latin-1')\n",
    "Books"
   ]
  },
  {
   "cell_type": "code",
   "execution_count": null,
   "id": "e221ea9b-a198-41db-8822-3942a1a944dd",
   "metadata": {},
   "outputs": [],
   "source": [
    "Books =  Books.drop(['Image-URL-S','Image-URL-M','Image-URL-L'], axis=1)\n",
    "Books"
   ]
  },
  {
   "cell_type": "code",
   "execution_count": null,
   "id": "76743bf5-6ae9-4cbd-bcc2-d6cddad2f0f3",
   "metadata": {},
   "outputs": [],
   "source": [
    "Users =pd.read_csv('Users.csv',encoding='latin-1')\n",
    "Users"
   ]
  },
  {
   "cell_type": "code",
   "execution_count": null,
   "id": "5ed61b66-eeb0-4932-bf85-e74eb070ca7c",
   "metadata": {},
   "outputs": [],
   "source": [
    "Ratings = pd.read_csv('Ratings.csv',encoding='latin-1')\n",
    "Ratings"
   ]
  },
  {
   "cell_type": "markdown",
   "id": "d10bbd0b-5f7d-4983-8969-ea242c18b454",
   "metadata": {},
   "source": [
    "## EDA"
   ]
  },
  {
   "cell_type": "code",
   "execution_count": null,
   "id": "da772790-6223-49f0-9093-22d162a389a1",
   "metadata": {},
   "outputs": [],
   "source": [
    "Books['Book-Title'].nunique()"
   ]
  },
  {
   "cell_type": "code",
   "execution_count": null,
   "id": "df36754c-6fbb-4614-ae87-b185ae5bf70a",
   "metadata": {},
   "outputs": [],
   "source": [
    "Books['Book-Author'].nunique()"
   ]
  },
  {
   "cell_type": "code",
   "execution_count": null,
   "id": "2e5508ee-9690-4753-8d88-43dbb8106ac0",
   "metadata": {},
   "outputs": [],
   "source": [
    "Books['Publisher'].nunique()"
   ]
  },
  {
   "cell_type": "code",
   "execution_count": null,
   "id": "9ddab48d-ef84-41ed-a13a-7668b2dd364d",
   "metadata": {},
   "outputs": [],
   "source": [
    "Books.info()"
   ]
  },
  {
   "cell_type": "code",
   "execution_count": null,
   "id": "15945a0f-20b9-46a5-9e25-8660f1d62506",
   "metadata": {},
   "outputs": [],
   "source": [
    "Books.isnull().sum()"
   ]
  },
  {
   "cell_type": "code",
   "execution_count": null,
   "id": "ad4f302a-708d-4344-bba4-9ec166d88e40",
   "metadata": {},
   "outputs": [],
   "source": [
    "Books[Books['Book-Author'].isna()]"
   ]
  },
  {
   "cell_type": "code",
   "execution_count": null,
   "id": "a2ca26dd-7e1e-4d4c-8741-59f3ec1cdb54",
   "metadata": {},
   "outputs": [],
   "source": [
    "Books['Book-Author'].mode()"
   ]
  },
  {
   "cell_type": "code",
   "execution_count": null,
   "id": "b43471ed-f36f-4168-8a7d-e3e34846a000",
   "metadata": {},
   "outputs": [],
   "source": [
    "Books.iloc[118033]['Book-Author'] ='Agatha Christie'\n",
    "Books.iloc[187689]['Book-Author'] ='Agatha Christie'"
   ]
  },
  {
   "cell_type": "code",
   "execution_count": null,
   "id": "6e432232-d7f5-4fef-9719-2c9a6e460864",
   "metadata": {},
   "outputs": [],
   "source": [
    "Books[Books['Book-Author'].isna()]"
   ]
  },
  {
   "cell_type": "code",
   "execution_count": null,
   "id": "cdedd52a-0317-4abe-9e59-197e6719eed7",
   "metadata": {},
   "outputs": [],
   "source": [
    "Books[Books['Publisher'].isna()]"
   ]
  },
  {
   "cell_type": "code",
   "execution_count": null,
   "id": "9dbce040-d978-4d7e-95ad-f37d7471b4f9",
   "metadata": {},
   "outputs": [],
   "source": [
    "Books['Publisher'].mode()"
   ]
  },
  {
   "cell_type": "code",
   "execution_count": null,
   "id": "43c6eac0-a23f-4312-9d49-f7f98b6b87f2",
   "metadata": {},
   "outputs": [],
   "source": [
    "Books.iloc[128890]['Publisher'] ='Harlequin'\n",
    "Books.iloc[129037]['Publisher'] ='Harlequin'"
   ]
  },
  {
   "cell_type": "code",
   "execution_count": null,
   "id": "4cf6d29a-8446-462b-9c6e-ae67c707e9b3",
   "metadata": {},
   "outputs": [],
   "source": [
    "Books[Books['Publisher'].isna()]"
   ]
  },
  {
   "cell_type": "code",
   "execution_count": null,
   "id": "0169eaec-0aec-4971-9843-c8a7172f6cf7",
   "metadata": {},
   "outputs": [],
   "source": [
    "Books['Year-Of-Publication'].unique()"
   ]
  },
  {
   "cell_type": "code",
   "execution_count": null,
   "id": "5573c867-0daf-4d56-85ae-75165ddf59ab",
   "metadata": {},
   "outputs": [],
   "source": [
    "Books[Books['Year-Of-Publication'] == '0']"
   ]
  },
  {
   "cell_type": "code",
   "execution_count": null,
   "id": "fb0ff5ff-52cc-44e1-a316-8fb7e41c0f1c",
   "metadata": {},
   "outputs": [],
   "source": [
    "Books[Books['Year-Of-Publication'] == 0]"
   ]
  },
  {
   "cell_type": "code",
   "execution_count": null,
   "id": "f07fcb5c-9b3d-49ef-9527-63169ea74f3b",
   "metadata": {},
   "outputs": [],
   "source": [
    "Books['Year-Of-Publication'].mode()"
   ]
  },
  {
   "cell_type": "code",
   "execution_count": null,
   "id": "fa7401fd-db78-480b-bda1-5335a5be2651",
   "metadata": {},
   "outputs": [],
   "source": [
    "Books['Year-Of-Publication'].replace('0','2002',inplace = True)"
   ]
  },
  {
   "cell_type": "code",
   "execution_count": null,
   "id": "14ee705c-1430-4878-bfbb-326bb50b981c",
   "metadata": {},
   "outputs": [],
   "source": [
    "Books[Books['Year-Of-Publication'] == '0']"
   ]
  },
  {
   "cell_type": "code",
   "execution_count": null,
   "id": "4c9302c4-6f1a-4b67-97db-5f3f36a510da",
   "metadata": {},
   "outputs": [],
   "source": [
    "Books['Year-Of-Publication'].replace(0,'2002',inplace = True)"
   ]
  },
  {
   "cell_type": "code",
   "execution_count": null,
   "id": "d509a3d2-6de8-49b3-a33b-a6c1e27e8555",
   "metadata": {},
   "outputs": [],
   "source": [
    "Books[Books['Year-Of-Publication'] == 0]"
   ]
  },
  {
   "cell_type": "code",
   "execution_count": null,
   "id": "32e868fe-3fca-42a8-b636-4234e1288c13",
   "metadata": {},
   "outputs": [],
   "source": [
    "Books['Year-Of-Publication'].replace(0,'2002',inplace = True)"
   ]
  },
  {
   "cell_type": "code",
   "execution_count": null,
   "id": "0f3f9ca2-3261-4bbf-88b8-5bf08f117d47",
   "metadata": {},
   "outputs": [],
   "source": [
    "Books.dtypes"
   ]
  },
  {
   "cell_type": "code",
   "execution_count": null,
   "id": "ace2b57a-a8a7-4d51-a6ab-18573d5e5d3a",
   "metadata": {},
   "outputs": [],
   "source": [
    "Books[Books['Year-Of-Publication'] == 'DK Publishing Inc']"
   ]
  },
  {
   "cell_type": "code",
   "execution_count": null,
   "id": "4ef05d8d-0ec1-4423-b6ef-8cbb5721738f",
   "metadata": {},
   "outputs": [],
   "source": [
    "Books[Books['Year-Of-Publication'] == 'Gallimard']"
   ]
  },
  {
   "cell_type": "code",
   "execution_count": null,
   "id": "70096924-8e84-4057-ae04-06674f4b8028",
   "metadata": {},
   "outputs": [],
   "source": [
    "Books.loc[209538]['Book-Author'] ='Agatha Christie'\n",
    "Books.loc[209538]['Year-Of-Publication'] =2000\n",
    "Books.loc[209538]['Publisher'] ='DK Publishing Inc'\n",
    "Books.loc[221678]['Book-Author'] ='Agatha Christie'\n",
    "Books.loc[221678]['Year-Of-Publication'] =2000\n",
    "Books.loc[221678]['Publisher'] ='DK Publishing Inc'\n",
    "Books.loc[220731]['Book-Author'] ='Agatha Christie'\n",
    "Books.loc[220731]['Year-Of-Publication'] =2003\n",
    "Books.loc[220731]['Publisher'] ='Gallimard'"
   ]
  },
  {
   "cell_type": "code",
   "execution_count": null,
   "id": "e0f8e5cd-e756-4c26-b03e-ca57118af5bd",
   "metadata": {},
   "outputs": [],
   "source": [
    "Books[Books['Year-Of-Publication'] == 'DK Publishing Inc']"
   ]
  },
  {
   "cell_type": "code",
   "execution_count": null,
   "id": "624d7534-ad8c-417c-9d4a-0703584e323f",
   "metadata": {},
   "outputs": [],
   "source": [
    "Books[Books['Year-Of-Publication'] == 'Gallimard']"
   ]
  },
  {
   "cell_type": "code",
   "execution_count": null,
   "id": "893630a6-324e-4e77-8812-5da18ef9968b",
   "metadata": {},
   "outputs": [],
   "source": [
    "convert_dict = {'Year-Of-Publication': int}\n",
    "Books = Books.astype(convert_dict)"
   ]
  },
  {
   "cell_type": "code",
   "execution_count": null,
   "id": "44c6688a-686f-4aa9-b8f4-1e788499ad6a",
   "metadata": {},
   "outputs": [],
   "source": [
    "Books[Books['Year-Of-Publication'] > 2024]"
   ]
  },
  {
   "cell_type": "code",
   "execution_count": null,
   "id": "c1954a41-0500-45ca-8b41-90a1f4e41e17",
   "metadata": {},
   "outputs": [],
   "source": [
    "Books.loc[Books['Year-Of-Publication'] > 2024, 'Year-Of-Publication'] = 2002"
   ]
  },
  {
   "cell_type": "code",
   "execution_count": null,
   "id": "b815da66-3f2c-4181-91ba-3fef9a35b78b",
   "metadata": {},
   "outputs": [],
   "source": [
    "Books.dtypes"
   ]
  },
  {
   "cell_type": "code",
   "execution_count": null,
   "id": "dcc1160a-db76-4ff1-b0d5-dcc9bf370a02",
   "metadata": {},
   "outputs": [],
   "source": [
    "Books.describe()"
   ]
  },
  {
   "cell_type": "code",
   "execution_count": null,
   "id": "77dfb01a-43e0-4f0e-88f7-a993bbcb0f12",
   "metadata": {},
   "outputs": [],
   "source": [
    "Users.info()"
   ]
  },
  {
   "cell_type": "code",
   "execution_count": null,
   "id": "2a4fcf90-54af-407f-be7d-a47f50df54eb",
   "metadata": {},
   "outputs": [],
   "source": [
    "Users.isnull().sum()"
   ]
  },
  {
   "cell_type": "code",
   "execution_count": null,
   "id": "de5dec6e-f9d0-4f85-9228-80eac74c922e",
   "metadata": {},
   "outputs": [],
   "source": [
    "Users['Age'].unique()"
   ]
  },
  {
   "cell_type": "code",
   "execution_count": null,
   "id": "0b257ea0-7244-4388-beee-8a906c03a1aa",
   "metadata": {},
   "outputs": [],
   "source": [
    "Users[(Users['Age']> 90)]"
   ]
  },
  {
   "cell_type": "code",
   "execution_count": null,
   "id": "ed51d465-a4ef-4e05-9e74-9a10f14a6a25",
   "metadata": {},
   "outputs": [],
   "source": [
    "Users[(Users['Age']<10)]"
   ]
  },
  {
   "cell_type": "code",
   "execution_count": null,
   "id": "0d164907-261b-4cab-951a-b4ad1c0608f8",
   "metadata": {},
   "outputs": [],
   "source": [
    "Users.loc[Users['Age'] > 90, 'Age'] = Users['Age'].mean()"
   ]
  },
  {
   "cell_type": "code",
   "execution_count": null,
   "id": "9dc6317c-62a0-4e91-a797-0f71083d723c",
   "metadata": {},
   "outputs": [],
   "source": [
    "Users[(Users['Age']> 90)]"
   ]
  },
  {
   "cell_type": "code",
   "execution_count": null,
   "id": "bfc7a3cb-c38e-48c9-a191-f222caed6fb2",
   "metadata": {},
   "outputs": [],
   "source": [
    "Users.loc[Users['Age'] <10, 'Age'] = Users['Age'].mean()"
   ]
  },
  {
   "cell_type": "code",
   "execution_count": null,
   "id": "f01beb85-0e27-4295-88b2-b5b7a2e47a35",
   "metadata": {},
   "outputs": [],
   "source": [
    "Users[(Users['Age']< 10)]"
   ]
  },
  {
   "cell_type": "code",
   "execution_count": null,
   "id": "f9d463be-6302-46d5-80a5-c7867668aa92",
   "metadata": {},
   "outputs": [],
   "source": [
    "Users['Age'].unique()"
   ]
  },
  {
   "cell_type": "code",
   "execution_count": null,
   "id": "38ae7b8b-66eb-4962-b706-e08f91be9b2a",
   "metadata": {},
   "outputs": [],
   "source": [
    "Users['Age'].fillna(Users.Age.mean(),inplace=True)"
   ]
  },
  {
   "cell_type": "code",
   "execution_count": null,
   "id": "71c14446-63e0-43fe-b120-22a50708ff2d",
   "metadata": {},
   "outputs": [],
   "source": [
    "Users.isnull().sum()"
   ]
  },
  {
   "cell_type": "code",
   "execution_count": null,
   "id": "b70f76a0-a16d-4ecc-b34e-1c8197e3ad33",
   "metadata": {},
   "outputs": [],
   "source": [
    "Users"
   ]
  },
  {
   "cell_type": "code",
   "execution_count": null,
   "id": "bfe3b038-c4c8-46be-b59f-e3de8ec6f976",
   "metadata": {},
   "outputs": [],
   "source": [
    "Users.describe()"
   ]
  },
  {
   "cell_type": "code",
   "execution_count": null,
   "id": "0805008a-235c-4823-b2f6-4cb585940a79",
   "metadata": {},
   "outputs": [],
   "source": [
    "Ratings.info()"
   ]
  },
  {
   "cell_type": "code",
   "execution_count": null,
   "id": "a416eb4d-77a5-465e-8e83-b49d60a38749",
   "metadata": {},
   "outputs": [],
   "source": [
    "Ratings['Book-Rating'].unique()"
   ]
  },
  {
   "cell_type": "code",
   "execution_count": null,
   "id": "989a9e12-6a8a-4a4d-a107-3f58cca9befe",
   "metadata": {},
   "outputs": [],
   "source": [
    "Ratings.rename(columns={'Book-Rating':'BookRating'},inplace=True)"
   ]
  },
  {
   "cell_type": "code",
   "execution_count": null,
   "id": "9faabb74-85a6-49a2-8093-0ec0df3869da",
   "metadata": {},
   "outputs": [],
   "source": [
    "Ratings = Ratings[Ratings.BookRating != 0]"
   ]
  },
  {
   "cell_type": "code",
   "execution_count": null,
   "id": "57825680-a25d-4c7b-ba7c-ea3a11324ed8",
   "metadata": {},
   "outputs": [],
   "source": [
    "Ratings['BookRating'].unique()"
   ]
  },
  {
   "cell_type": "code",
   "execution_count": null,
   "id": "cf96d50f-7cc7-4fc4-a08b-7e17ce0c7208",
   "metadata": {},
   "outputs": [],
   "source": [
    "Ratings.isnull().sum()"
   ]
  },
  {
   "cell_type": "code",
   "execution_count": null,
   "id": "7a29d620-3a0c-4f2e-9ed6-335afde52e39",
   "metadata": {},
   "outputs": [],
   "source": [
    "Ratings.describe()"
   ]
  },
  {
   "cell_type": "code",
   "execution_count": null,
   "id": "f5f51fd3-055c-4f88-a902-cbd588ac012c",
   "metadata": {},
   "outputs": [],
   "source": [
    "Books.duplicated().sum()"
   ]
  },
  {
   "cell_type": "code",
   "execution_count": null,
   "id": "88ec1d4c-7a56-4f80-9456-f9a87103c686",
   "metadata": {},
   "outputs": [],
   "source": [
    "Users.duplicated().sum()"
   ]
  },
  {
   "cell_type": "code",
   "execution_count": null,
   "id": "fde7d31a-09a6-49ff-81c4-ba6d78748331",
   "metadata": {},
   "outputs": [],
   "source": [
    "Ratings.duplicated().sum()"
   ]
  },
  {
   "cell_type": "code",
   "execution_count": null,
   "id": "a73e2930-e0c4-46b9-abda-b6a4d890278d",
   "metadata": {},
   "outputs": [],
   "source": [
    "Ratings_and_Users = Ratings.merge(Users, on=\"User-ID\")"
   ]
  },
  {
   "cell_type": "code",
   "execution_count": null,
   "id": "faaabfff-a20f-48d5-93be-4532ffe1ae45",
   "metadata": {},
   "outputs": [],
   "source": [
    "Ratings_and_Users"
   ]
  },
  {
   "cell_type": "code",
   "execution_count": null,
   "id": "768291b0-0871-4ca6-8fcf-0568d2c10411",
   "metadata": {},
   "outputs": [],
   "source": [
    "Data = Ratings_and_Users.merge(Books,on ='ISBN')"
   ]
  },
  {
   "cell_type": "code",
   "execution_count": null,
   "id": "b67f1e4c-22be-4d1b-a8a3-4581f61b7834",
   "metadata": {},
   "outputs": [],
   "source": [
    "Data.head()"
   ]
  },
  {
   "cell_type": "code",
   "execution_count": null,
   "id": "e3c8ad7e-1ebd-4c56-9cc3-c6a23d25780c",
   "metadata": {},
   "outputs": [],
   "source": [
    "Data.shape"
   ]
  },
  {
   "cell_type": "code",
   "execution_count": null,
   "id": "a54f0eb3-bcb4-4f26-a367-b0309f07a790",
   "metadata": {},
   "outputs": [],
   "source": [
    "Data.info()"
   ]
  },
  {
   "cell_type": "code",
   "execution_count": null,
   "id": "161715bb-0601-4a63-9679-f58cc6ee99d1",
   "metadata": {},
   "outputs": [],
   "source": [
    "Data.describe()"
   ]
  },
  {
   "cell_type": "code",
   "execution_count": null,
   "id": "737998ae-5e10-4ec4-8434-ba3e48d01e56",
   "metadata": {},
   "outputs": [],
   "source": [
    "Data.nunique()"
   ]
  },
  {
   "cell_type": "code",
   "execution_count": null,
   "id": "40ce9eca-2a78-435c-8f74-a8ad08b6f1e2",
   "metadata": {},
   "outputs": [],
   "source": [
    "Data.isnull().sum()"
   ]
  },
  {
   "cell_type": "code",
   "execution_count": null,
   "id": "94db6983-2624-4e6c-a50d-e6c19a076f7f",
   "metadata": {},
   "outputs": [],
   "source": [
    "Data.duplicated().sum()"
   ]
  },
  {
   "cell_type": "code",
   "execution_count": null,
   "id": "f39990e9-89a0-4f6e-9f8e-c580ef6de9c2",
   "metadata": {},
   "outputs": [],
   "source": [
    "Data['Book-Title'].value_counts()"
   ]
  },
  {
   "cell_type": "code",
   "execution_count": null,
   "id": "fa3061da-d10a-4b44-8c08-9dba21d43ed9",
   "metadata": {},
   "outputs": [],
   "source": [
    "Data['Book-Author'].value_counts()"
   ]
  },
  {
   "cell_type": "code",
   "execution_count": null,
   "id": "262098be-377a-4c2e-a4e9-dd39900ac110",
   "metadata": {},
   "outputs": [],
   "source": [
    "Data['BookRating'].value_counts()"
   ]
  },
  {
   "cell_type": "markdown",
   "id": "cdddb698-2c46-4e64-a909-8173427b9fa6",
   "metadata": {},
   "source": [
    "## Visualization"
   ]
  },
  {
   "cell_type": "code",
   "execution_count": null,
   "id": "ddc45acf-1804-46d3-9230-23faf053ed59",
   "metadata": {},
   "outputs": [],
   "source": [
    "Data['Age'].plot.box()\n",
    "plt.show()"
   ]
  },
  {
   "cell_type": "code",
   "execution_count": null,
   "id": "0889719c-5cc4-4868-b9ad-d8f8f2b900a9",
   "metadata": {},
   "outputs": [],
   "source": [
    "## Detecting Outliers using Z-score\n",
    "from scipy import stats\n",
    "z = np.abs(stats.zscore(Data['Age']))\n",
    "threshold =3\n",
    "outliers= Data[z> threshold]"
   ]
  },
  {
   "cell_type": "code",
   "execution_count": null,
   "id": "600ef3a5-fabe-4a53-8d0a-7918a7da95da",
   "metadata": {},
   "outputs": [],
   "source": [
    "len(outliers)"
   ]
  },
  {
   "cell_type": "code",
   "execution_count": null,
   "id": "694eae1e-6554-4b71-bca2-00c96b63e8a7",
   "metadata": {},
   "outputs": [],
   "source": [
    "## IQR Method\n",
    "Q1= Data['Age'].quantile(0.25)\n",
    "Q3= Data['Age'].quantile(0.75)\n",
    "IQR= Q3 -Q1\n",
    "print(Q3)\n",
    "print(Q1)\n",
    "IQR"
   ]
  },
  {
   "cell_type": "code",
   "execution_count": null,
   "id": "1408e2ac-4b54-4fd2-b7c6-91bfff4b7cab",
   "metadata": {},
   "outputs": [],
   "source": [
    "Data= Data[~((Data['Age']<(Q1 -1.5*IQR))|(Data['Age']>(Q3+ 1.5*IQR)))]"
   ]
  },
  {
   "cell_type": "code",
   "execution_count": null,
   "id": "41c53461-2d76-4e0e-8b6b-4de7073d0a98",
   "metadata": {},
   "outputs": [],
   "source": [
    "Data['Age'].plot.box()\n",
    "plt.show()"
   ]
  },
  {
   "cell_type": "code",
   "execution_count": null,
   "id": "8e8556a0-fea1-4a66-89e4-144390371337",
   "metadata": {},
   "outputs": [],
   "source": [
    "sns.countplot(data=Data, x= 'BookRating')"
   ]
  },
  {
   "cell_type": "code",
   "execution_count": null,
   "id": "8ef7a19e-4df4-4c89-9cb8-3681f9a608c5",
   "metadata": {},
   "outputs": [],
   "source": [
    "sns.countplot(y='Book-Title',data=Data,order=pd.value_counts(Data['Book-Title']).iloc[:10].index,palette='rocket_r')\n",
    "plt.title('Top 10 Popular Books')"
   ]
  },
  {
   "cell_type": "code",
   "execution_count": null,
   "id": "eaee151d-9c8a-4767-b2e1-dbd3a78d5f9e",
   "metadata": {},
   "outputs": [],
   "source": [
    "sns.countplot(y='Book-Author',data=Data,order=pd.value_counts(Data['Book-Author']).iloc[:20].index,palette='viridis')\n",
    "plt.title('Top 20 Authors')"
   ]
  },
  {
   "cell_type": "code",
   "execution_count": null,
   "id": "f7b30429-ee02-4276-a84e-3e5a4d5fe623",
   "metadata": {},
   "outputs": [],
   "source": [
    "sns.countplot(y='Publisher',data=Data,order=pd.value_counts(Data['Publisher']).iloc[:20].index,palette='mako_r')\n",
    "plt.title('Top 20 Publishers')"
   ]
  },
  {
   "cell_type": "code",
   "execution_count": null,
   "id": "133b0273-3a65-4be4-9255-b0f3b6914ef9",
   "metadata": {},
   "outputs": [],
   "source": [
    "sns.countplot(y='Location',data=Data,order=pd.value_counts(Data['Location']).iloc[:20].index,palette='viridis')\n",
    "plt.title('Count of users Location wise')"
   ]
  },
  {
   "cell_type": "code",
   "execution_count": null,
   "id": "7e2461d1-6ccf-4ab6-8703-ca8ca15a56d1",
   "metadata": {},
   "outputs": [],
   "source": [
    "sns.countplot(x='Year-Of-Publication',data=Data,order=pd.value_counts(Data['Year-Of-Publication']).iloc[:20].index,palette='mako_r')\n",
    "plt.title('Books Published Yearwise')"
   ]
  },
  {
   "cell_type": "code",
   "execution_count": null,
   "id": "d569e1a3-1612-4a2a-aab8-00c2018a95b3",
   "metadata": {},
   "outputs": [],
   "source": [
    "Data"
   ]
  },
  {
   "cell_type": "markdown",
   "id": "4723eae2-d37f-4ce7-aea0-0f3e18505677",
   "metadata": {},
   "source": [
    "## Model Building"
   ]
  },
  {
   "cell_type": "markdown",
   "id": "35d7cc75-7bac-47dc-b244-effc2ce4624c",
   "metadata": {},
   "source": [
    "### Popularity-Based Recommendation System:"
   ]
  },
  {
   "cell_type": "code",
   "execution_count": null,
   "id": "0e8dbfb9-d11f-4a12-8493-bd8da913dc53",
   "metadata": {},
   "outputs": [],
   "source": [
    "# No of ratings each book have got\n",
    "df=Data.groupby('Book-Title').BookRating.count().to_frame('BookRatingscount').reset_index()\n",
    "df"
   ]
  },
  {
   "cell_type": "code",
   "execution_count": null,
   "id": "8f09c711-8a69-4e7d-b031-97d36faa8116",
   "metadata": {},
   "outputs": [],
   "source": [
    "df[df['Book-Title'] == 'Rites of Passage']"
   ]
  },
  {
   "cell_type": "code",
   "execution_count": null,
   "id": "6428e8bb-1f6e-420b-9772-77ce74a8c930",
   "metadata": {},
   "outputs": [],
   "source": [
    "df['BookRatingscount']"
   ]
  },
  {
   "cell_type": "code",
   "execution_count": null,
   "id": "09e0d01c-f6d6-446d-bac0-f276991156e7",
   "metadata": {},
   "outputs": [],
   "source": [
    "data = Data.merge(df, on=\"Book-Title\")"
   ]
  },
  {
   "cell_type": "code",
   "execution_count": null,
   "id": "40044a6e-db0a-49bb-bef8-fec4e5d7b57c",
   "metadata": {},
   "outputs": [],
   "source": [
    "data"
   ]
  },
  {
   "cell_type": "code",
   "execution_count": null,
   "id": "79c0efd0-11cd-4e92-975c-16bc2fe52bec",
   "metadata": {},
   "outputs": [],
   "source": [
    "data[data['Book-Title'] == 'Ã?Â?rger mit Produkt X. Roman.']"
   ]
  },
  {
   "cell_type": "code",
   "execution_count": null,
   "id": "fbbad473-10e5-4015-b3de-038f62e19693",
   "metadata": {},
   "outputs": [],
   "source": [
    "# Avg ratings of books\n",
    "data['AvgRatings'] = data.groupby(['Book-Title'])['BookRating'].transform('mean')"
   ]
  },
  {
   "cell_type": "code",
   "execution_count": null,
   "id": "28e84d98-71d7-44e1-ad5c-bc9f30c836aa",
   "metadata": {},
   "outputs": [],
   "source": [
    "data"
   ]
  },
  {
   "cell_type": "code",
   "execution_count": null,
   "id": "d9cf536b-c0a1-4c29-a941-a7b839a9fb27",
   "metadata": {},
   "outputs": [],
   "source": [
    "data[data['Book-Title'] == 'Rites of Passage']"
   ]
  },
  {
   "cell_type": "code",
   "execution_count": null,
   "id": "e0aff728-03c1-44c2-818d-8827b9f6eea6",
   "metadata": {},
   "outputs": [],
   "source": [
    "## Top 10 Popular Books\n",
    "data.sort_values(\"BookRatingscount\", ascending=False).head(10)"
   ]
  },
  {
   "cell_type": "code",
   "execution_count": null,
   "id": "079cfb52-57b8-472b-953e-54a815e09f18",
   "metadata": {},
   "outputs": [],
   "source": [
    "## Locationwise Popular Books\n",
    "data.sort_values([\"BookRatingscount\"], ascending=False).groupby('Location').head()"
   ]
  },
  {
   "cell_type": "code",
   "execution_count": null,
   "id": "40512174-1d70-4fa8-a2b4-47744a116f8b",
   "metadata": {},
   "outputs": [],
   "source": [
    "data.groupby('Year-Of-Publication')"
   ]
  },
  {
   "cell_type": "code",
   "execution_count": null,
   "id": "98e27b96-6296-4121-944f-f21d041dfbaa",
   "metadata": {},
   "outputs": [],
   "source": [
    "data['Year-Of-Publication'].value_counts()"
   ]
  },
  {
   "cell_type": "code",
   "execution_count": null,
   "id": "4238f3db-2293-4feb-9cf3-b8813155db4e",
   "metadata": {},
   "outputs": [],
   "source": [
    "convert_dict = {'Age': int}\n",
    "data = data.astype(convert_dict)"
   ]
  },
  {
   "cell_type": "code",
   "execution_count": null,
   "id": "31afb801-3870-4fd9-89aa-c0d0491eebdf",
   "metadata": {},
   "outputs": [],
   "source": [
    "data.dtypes"
   ]
  },
  {
   "cell_type": "code",
   "execution_count": null,
   "id": "d394a865-28b1-463c-8235-8a486507f25c",
   "metadata": {},
   "outputs": [],
   "source": [
    "## Books popular Yearly\n",
    "data.sort_values([\"Year-Of-Publication\"], ascending=False)"
   ]
  },
  {
   "cell_type": "code",
   "execution_count": null,
   "id": "cfeaa704-5336-4a18-92d4-57a01079d6d8",
   "metadata": {},
   "outputs": [],
   "source": [
    "data_above_100 = data[data['BookRatingscount']>=\n",
    "  100]"
   ]
  },
  {
   "cell_type": "code",
   "execution_count": null,
   "id": "30535b77-af69-4e36-962e-78c637fed563",
   "metadata": {},
   "outputs": [],
   "source": [
    "## Top Books with highest weighted rating\n",
    "\n",
    "def calcWeightedRating(row, avgRating, numOfRatings, minThres, defRating):\n",
    "    weightedRating = ((row[avgRating] * row[numOfRatings]) + \n",
    "      (minThres * defRating))/(row[numOfRatings] + minThres)\n",
    "    return weightedRating\n",
    "\n",
    "# For number of ratings above 100\n",
    "data_above_100 = data_above_100.copy()\n",
    "data_above_100['Weighted-Rating'] = data_above_100.apply(\n",
    "  lambda x:calcWeightedRating( \n",
    "      x,'AvgRatings', 'BookRatingscount', 100, 5),axis=1)\n",
    "data_above_100.sort_values(\n",
    "    'Weighted-Rating', ascending=False).head(20)"
   ]
  },
  {
   "cell_type": "markdown",
   "id": "59570c92-31c6-47b9-b870-77b146b14734",
   "metadata": {},
   "source": [
    "### Collaborative Filtering-Based Recommendation System:"
   ]
  },
  {
   "cell_type": "code",
   "execution_count": null,
   "id": "ba6ec73f-4726-487d-8101-e452115684ad",
   "metadata": {},
   "outputs": [],
   "source": [
    "# No of ratings given by the each User\n",
    "df1=Data.groupby('User-ID').BookRating.count().to_frame('UserRatings').reset_index()\n",
    "df1"
   ]
  },
  {
   "cell_type": "code",
   "execution_count": null,
   "id": "eaa1b56b-c0dc-4dd0-9c58-1d3d9e1ae235",
   "metadata": {},
   "outputs": [],
   "source": [
    "data[data['User-ID']==8]"
   ]
  },
  {
   "cell_type": "code",
   "execution_count": null,
   "id": "3e144356-de5c-4661-a281-6d98158beae6",
   "metadata": {},
   "outputs": [],
   "source": [
    "filteredData = df1.merge(data, on=\"User-ID\")"
   ]
  },
  {
   "cell_type": "code",
   "execution_count": null,
   "id": "23b298f7-88fe-4145-87f6-25ff271d8c43",
   "metadata": {},
   "outputs": [],
   "source": [
    "filteredData"
   ]
  },
  {
   "cell_type": "code",
   "execution_count": null,
   "id": "267d1a8c-dbc4-457c-86b2-42ae4f3370e4",
   "metadata": {},
   "outputs": [],
   "source": [
    "### users who have rated over 200 books and books which have atleast 50 ratings\n",
    "filteredData = filteredData[(filteredData['UserRatings'] > 200) & (filteredData['BookRatingscount']>=50)]"
   ]
  },
  {
   "cell_type": "code",
   "execution_count": null,
   "id": "69692800-2f50-4583-a408-7d0c1841ea14",
   "metadata": {},
   "outputs": [],
   "source": [
    "filteredData"
   ]
  },
  {
   "cell_type": "code",
   "execution_count": null,
   "id": "fbd96d1c-65c4-4192-bc6e-898019038802",
   "metadata": {},
   "outputs": [],
   "source": [
    "filteredData[filteredData['Book-Title']=='Dreamcatcher']"
   ]
  },
  {
   "cell_type": "code",
   "execution_count": null,
   "id": "7bac6c53-1b23-432c-b804-e55ee0c10577",
   "metadata": {},
   "outputs": [],
   "source": [
    "filteredData.isnull().sum()"
   ]
  },
  {
   "cell_type": "code",
   "execution_count": null,
   "id": "b3ec28ec-81cb-427b-be67-57c73ec219c2",
   "metadata": {},
   "outputs": [],
   "source": [
    "pivot = pd.pivot_table(data=filteredData,index='Book-Title',columns='User-ID', values='UserRatings')\n",
    "pivot.fillna(0, inplace=True)"
   ]
  },
  {
   "cell_type": "code",
   "execution_count": null,
   "id": "6398cb4d-9eec-4ec9-9d24-3df5766c2c22",
   "metadata": {},
   "outputs": [],
   "source": [
    "pivot"
   ]
  },
  {
   "cell_type": "code",
   "execution_count": null,
   "id": "eb210840-8b94-4d9a-9f45-97b2ad29fcf2",
   "metadata": {},
   "outputs": [],
   "source": [
    "pivot.shape"
   ]
  },
  {
   "cell_type": "code",
   "execution_count": null,
   "id": "3a0d39bf-fd6f-491c-892c-d086abe9afa1",
   "metadata": {},
   "outputs": [],
   "source": [
    "from sklearn.metrics.pairwise import cosine_similarity\n",
    "\n",
    "similarities = cosine_similarity(pivot)\n",
    "similarities"
   ]
  },
  {
   "cell_type": "code",
   "execution_count": null,
   "id": "93631c02-5677-42b9-9533-73103cb4c9cc",
   "metadata": {},
   "outputs": [],
   "source": [
    "similarities.shape"
   ]
  },
  {
   "cell_type": "code",
   "execution_count": null,
   "id": "bb72be59-4d1d-4480-930e-f81208640d3e",
   "metadata": {},
   "outputs": [],
   "source": [
    "np.where(pivot.index=='1984')"
   ]
  },
  {
   "cell_type": "code",
   "execution_count": null,
   "id": "3ae6df58-f487-4582-8e16-84a3c1e4e28d",
   "metadata": {},
   "outputs": [],
   "source": [
    "display(similarities[0])"
   ]
  },
  {
   "cell_type": "code",
   "execution_count": null,
   "id": "6ccf1fcd-21ea-4bc4-b701-1ef6b23c5efb",
   "metadata": {},
   "outputs": [],
   "source": [
    "sorted(list(enumerate(similarities[0])), key=lambda x: x[1], \n",
    "  reverse=True)[1:6]"
   ]
  },
  {
   "cell_type": "code",
   "execution_count": null,
   "id": "6d31eb7e-bbc0-4013-99c5-87db002722e9",
   "metadata": {},
   "outputs": [],
   "source": [
    "### Displaying the name of books from the top 5\n",
    "for book in sorted(list(enumerate(similarities[0])), key=lambda x: x[1], reverse=True)[1:6]:\n",
    "    print(pivot.index[book[0]])"
   ]
  },
  {
   "cell_type": "code",
   "execution_count": null,
   "id": "625c6586-00ce-4352-8233-cc6338ccc8ec",
   "metadata": {},
   "outputs": [],
   "source": [
    "### Final Recommendation for the selected Book\n",
    "def recommend(book_name):\n",
    "    if book_name in pivot.index:\n",
    "        index = np.where(pivot.index == book_name)[0][0]\n",
    "        similar_books_list = sorted(\n",
    "        list(enumerate(similarities[index])), key=lambda x: x[1], reverse=True)[1:11]\n",
    "        \n",
    "        print(f'Recommendations for the book {book_name}:')\n",
    "        print('-'*10)\n",
    "        for book in similar_books_list:\n",
    "            print(pivot.index[book[0]])\n",
    "        print('\\n')\n",
    "    else:\n",
    "        print('Book Not Found')\n",
    "        print('\\n')"
   ]
  },
  {
   "cell_type": "code",
   "execution_count": null,
   "id": "bd5c424a-01f6-4239-a4e6-d5ea2280f4f8",
   "metadata": {},
   "outputs": [],
   "source": [
    "recommend('Harry Potter and the Chamber of Secrets (Book 2)')"
   ]
  },
  {
   "cell_type": "code",
   "execution_count": null,
   "id": "9f2bf8d4-c8d2-44ed-8f7c-87a42a77c0f0",
   "metadata": {},
   "outputs": [],
   "source": [
    "recommend('The Runaway Jury')"
   ]
  },
  {
   "cell_type": "code",
   "execution_count": null,
   "id": "e1af7170-0be1-4a05-9aa3-31e4e21ca06a",
   "metadata": {},
   "outputs": [],
   "source": [
    "recommend('From One to One Hundred')"
   ]
  },
  {
   "cell_type": "code",
   "execution_count": null,
   "id": "16854b43-0c3f-49f6-ac19-a1f8657ca085",
   "metadata": {},
   "outputs": [],
   "source": [
    "recommend('Dreamcatcher')"
   ]
  },
  {
   "cell_type": "markdown",
   "id": "fab86891-8617-425f-bc32-64da7dc818a5",
   "metadata": {},
   "source": [
    "### Deployment"
   ]
  },
  {
   "cell_type": "code",
   "execution_count": null,
   "id": "5ba2a92f-d7f8-4716-9d21-ec2e760e34a4",
   "metadata": {},
   "outputs": [],
   "source": [
    "import pickle"
   ]
  },
  {
   "cell_type": "code",
   "execution_count": null,
   "id": "7c23bef0-f16f-45f1-8c23-f95d1f42a1c6",
   "metadata": {},
   "outputs": [],
   "source": [
    "# Saving the popularity-based recommendation data into a pickle file\n",
    "pickle.dump(data_above_100, open('PopularBookRecommendation.pkl', 'wb'))"
   ]
  },
  {
   "cell_type": "code",
   "execution_count": null,
   "id": "86a08521-b334-4e70-a983-7037ee9ce2e8",
   "metadata": {},
   "outputs": [],
   "source": [
    "# Saving collaborative filtering data into pickle files\n",
    "pickle.dump(pivot, open('pivot.pkl', 'wb'))\n",
    "pickle.dump(Books, open('Books.pkl', 'wb'))\n",
    "pickle.dump(similarities, open('similarities.pkl', 'wb'))"
   ]
  },
  {
   "cell_type": "code",
   "execution_count": null,
   "id": "25b195ba-4d02-4b4e-a9d7-561af843b293",
   "metadata": {},
   "outputs": [],
   "source": [
    "# Load the recommendation models from pickle files\n",
    "popular_recommendations = pickle.load(open('PopularBookRecommendation.pkl', 'rb'))\n",
    "collaborative_filtering_pivot = pickle.load(open('pivot.pkl', 'rb'))\n",
    "books_data = pickle.load(open('Books.pkl', 'rb'))\n",
    "similarities = pickle.load(open('similarities.pkl', 'rb'))"
   ]
  },
  {
   "cell_type": "code",
   "execution_count": null,
   "id": "2bd24237-644a-413b-8470-b962c60a8c68",
   "metadata": {},
   "outputs": [],
   "source": []
  }
 ],
 "metadata": {
  "kernelspec": {
   "display_name": "Python 3 (ipykernel)",
   "language": "python",
   "name": "python3"
  },
  "language_info": {
   "codemirror_mode": {
    "name": "ipython",
    "version": 3
   },
   "file_extension": ".py",
   "mimetype": "text/x-python",
   "name": "python",
   "nbconvert_exporter": "python",
   "pygments_lexer": "ipython3",
   "version": "3.9.19"
  }
 },
 "nbformat": 4,
 "nbformat_minor": 5
}
